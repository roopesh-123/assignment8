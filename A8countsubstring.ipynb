{
  "nbformat": 4,
  "nbformat_minor": 0,
  "metadata": {
    "colab": {
      "name": "A8countsubstring",
      "provenance": []
    },
    "kernelspec": {
      "name": "python3",
      "display_name": "Python 3"
    }
  },
  "cells": [
    {
      "cell_type": "code",
      "metadata": {
        "id": "tq2B2w8H8-yG",
        "colab_type": "code",
        "colab": {
          "base_uri": "https://localhost:8080/",
          "height": 51
        },
        "outputId": "5f06fc25-6990-4864-f99c-3124b5a90366"
      },
      "source": [
        "n=input(\"enter a string=\")\n",
        "count=1\n",
        "for x in n:\n",
        "  if (x==\" \"):\n",
        "    count=count+1\n",
        "  else:\n",
        "    continue\n",
        "print(\"no of sub strings are\",count)       "
      ],
      "execution_count": 2,
      "outputs": [
        {
          "output_type": "stream",
          "text": [
            "enter a string=hello world roro\n",
            "no of sub strings are 3\n"
          ],
          "name": "stdout"
        }
      ]
    },
    {
      "cell_type": "code",
      "metadata": {
        "id": "LhqwxZze-ATE",
        "colab_type": "code",
        "colab": {}
      },
      "source": [
        ""
      ],
      "execution_count": null,
      "outputs": []
    }
  ]
}