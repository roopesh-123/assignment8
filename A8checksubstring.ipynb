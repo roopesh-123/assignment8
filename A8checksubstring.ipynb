{
  "nbformat": 4,
  "nbformat_minor": 0,
  "metadata": {
    "colab": {
      "name": "A8checksubstring",
      "provenance": []
    },
    "kernelspec": {
      "name": "python3",
      "display_name": "Python 3"
    }
  },
  "cells": [
    {
      "cell_type": "code",
      "metadata": {
        "id": "zfRPgKRC7XNd",
        "colab_type": "code",
        "colab": {
          "base_uri": "https://localhost:8080/",
          "height": 51
        },
        "outputId": "6cc728ef-93b9-487b-c043-503f7904cf78"
      },
      "source": [
        "n=input(\"enter a string=\")\n",
        "for x in n:\n",
        "  if (x==\" \"):\n",
        "    print(\"substring is present\")\n",
        "  else:\n",
        "    continue\n",
        "    #print(\"sub string is not present\")  "
      ],
      "execution_count": 8,
      "outputs": [
        {
          "output_type": "stream",
          "text": [
            "enter a string=roopesh reddy\n",
            "substring is present\n"
          ],
          "name": "stdout"
        }
      ]
    },
    {
      "cell_type": "code",
      "metadata": {
        "id": "h0oJCY4d7peq",
        "colab_type": "code",
        "colab": {}
      },
      "source": [
        ""
      ],
      "execution_count": null,
      "outputs": []
    }
  ]
}