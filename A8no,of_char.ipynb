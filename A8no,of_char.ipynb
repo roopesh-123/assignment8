{
  "nbformat": 4,
  "nbformat_minor": 0,
  "metadata": {
    "colab": {
      "name": "A8no,of char",
      "provenance": []
    },
    "kernelspec": {
      "name": "python3",
      "display_name": "Python 3"
    }
  },
  "cells": [
    {
      "cell_type": "code",
      "metadata": {
        "id": "NqgVi89lpyD-",
        "colab_type": "code",
        "colab": {
          "base_uri": "https://localhost:8080/",
          "height": 88
        },
        "outputId": "b4e97682-a562-43aa-a779-8f19507ff6ae"
      },
      "source": [
        "s=input(\"enter a string=\")\n",
        "i=1\n",
        "c=0\n",
        "for x in s:\n",
        "  c=c+1\n",
        "  if (x==\" \"):\n",
        "    i=i+1\n",
        "print(i)\n",
        "print(c)  \n",
        "\n"
      ],
      "execution_count": 11,
      "outputs": [
        {
          "output_type": "stream",
          "text": [
            "enter a string=nnihh  j jfifihu ffhi jufihni jhiehfihidf ihfiihf hudhifhi hyffuhugfi huuihe fheuyfijfdkhf nvbbmf fihhf \n",
            "15\n",
            "104\n"
          ],
          "name": "stdout"
        }
      ]
    },
    {
      "cell_type": "code",
      "metadata": {
        "id": "dV6R7MB3p9Sh",
        "colab_type": "code",
        "colab": {}
      },
      "source": [
        ""
      ],
      "execution_count": null,
      "outputs": []
    }
  ]
}