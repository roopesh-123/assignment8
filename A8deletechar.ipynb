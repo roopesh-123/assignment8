{
  "nbformat": 4,
  "nbformat_minor": 0,
  "metadata": {
    "colab": {
      "name": "A8deletechar",
      "provenance": []
    },
    "kernelspec": {
      "name": "python3",
      "display_name": "Python 3"
    }
  },
  "cells": [
    {
      "cell_type": "code",
      "metadata": {
        "id": "ZNRE5R9Cz94w",
        "colab_type": "code",
        "colab": {
          "base_uri": "https://localhost:8080/",
          "height": 68
        },
        "outputId": "8dcff7e1-1cd9-4985-9f23-770ab345cf1c"
      },
      "source": [
        "s=input(\"enter a string\")\n",
        "n=input(\"enter a character you are willing to delete\")\n",
        "for x in s:\n",
        "  if (x==n):\n",
        "    continue\n",
        "  else:\n",
        "    print(x,end=\" \")  "
      ],
      "execution_count": 3,
      "outputs": [
        {
          "output_type": "stream",
          "text": [
            "enter a stringroop\n",
            "enter a character you are willing to deletep\n",
            "r o o "
          ],
          "name": "stdout"
        }
      ]
    },
    {
      "cell_type": "code",
      "metadata": {
        "id": "P2lUhnQg0ueQ",
        "colab_type": "code",
        "colab": {}
      },
      "source": [
        ""
      ],
      "execution_count": null,
      "outputs": []
    }
  ]
}