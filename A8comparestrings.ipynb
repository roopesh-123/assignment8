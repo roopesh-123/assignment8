{
  "nbformat": 4,
  "nbformat_minor": 0,
  "metadata": {
    "colab": {
      "name": "A8comparestrings",
      "provenance": []
    },
    "kernelspec": {
      "name": "python3",
      "display_name": "Python 3"
    }
  },
  "cells": [
    {
      "cell_type": "code",
      "metadata": {
        "id": "TFKy0pfZ1pBD",
        "colab_type": "code",
        "colab": {
          "base_uri": "https://localhost:8080/",
          "height": 68
        },
        "outputId": "b96bc422-c9c8-4686-a1b5-452c2abc566c"
      },
      "source": [
        "s1=input(\"enter one string=\")\n",
        "s2=input(\"enter second string=\")\n",
        "if (s1==s2):\n",
        "  print(\"both are equal\")\n",
        "else:\n",
        "  print(\"not equal\")"
      ],
      "execution_count": 3,
      "outputs": [
        {
          "output_type": "stream",
          "text": [
            "enter one string=roopesh\n",
            "enter second string=roopesh\n",
            "both are equal\n"
          ],
          "name": "stdout"
        }
      ]
    },
    {
      "cell_type": "code",
      "metadata": {
        "id": "U-mzRiIV2GWk",
        "colab_type": "code",
        "colab": {}
      },
      "source": [
        ""
      ],
      "execution_count": null,
      "outputs": []
    }
  ]
}